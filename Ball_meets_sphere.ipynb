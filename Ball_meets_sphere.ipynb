{
 "cells": [
  {
   "cell_type": "code",
   "execution_count": 1,
   "metadata": {},
   "outputs": [
    {
     "name": "stdout",
     "output_type": "stream",
     "text": [
      "pygame 2.0.0 (SDL 2.0.12, python 3.7.1)\n",
      "Hello from the pygame community. https://www.pygame.org/contribute.html\n",
      "Loading chipmunk for Windows (64bit) [C:\\Users\\User\\Anaconda3\\lib\\site-packages\\pymunk\\chipmunk.dll]\n",
      "Radius of falling ball? 10\n",
      "Elasticity of falling ball, range [0,20]? 15\n",
      "Radius of sphere? 40\n",
      "Elasticity static sphere, range [0,20]? 10\n"
     ]
    },
    {
     "ename": "SystemExit",
     "evalue": "",
     "output_type": "error",
     "traceback": [
      "An exception has occurred, use %tb to see the full traceback.\n",
      "\u001b[1;31mSystemExit\u001b[0m\n"
     ]
    },
    {
     "name": "stderr",
     "output_type": "stream",
     "text": [
      "C:\\Users\\User\\Anaconda3\\lib\\site-packages\\IPython\\core\\interactiveshell.py:3275: UserWarning: To exit: use 'exit', 'quit', or Ctrl-D.\n",
      "  warn(\"To exit: use 'exit', 'quit', or Ctrl-D.\", stacklevel=1)\n"
     ]
    }
   ],
   "source": [
    "#### For one Static Ball\n",
    "\n",
    "\n",
    "import pygame \n",
    "import sys\n",
    "import pymunk \n",
    "import math as m\n",
    "\n",
    "\n",
    "ball_size=int(input(\"Radius of falling ball? \"))\n",
    "ball_elast=int(input(\"Elasticity of falling ball, range [0,20]? \"))\n",
    "sphere_size=int(input(\"Radius of sphere? \"))\n",
    "sphere_elast=int(input(\"Elasticity static sphere, range [0,20]? \"))\n",
    "\n",
    "\n",
    "# create the physical body #uses floats\n",
    "def create_apple(space,pos):\n",
    "    body = pymunk.Body(1,100,body_type=pymunk.Body.DYNAMIC )\n",
    "    body.position = pos\n",
    "    shape = pymunk.Circle(body,ball_size)\n",
    "    shape.elasticity=ball_elast/10\n",
    "    space.add(body,shape)\n",
    "    return shape\n",
    "\n",
    "# draw the body in pygame #uses integers\n",
    "def draw_apples(apples):\n",
    "    for apple in apples:\n",
    "        pos_x = int(apple.body.position.x)\n",
    "        pos_y = int(apple.body.position.y)\n",
    "        pygame.draw.circle(screen,(0,0,0),(pos_x,pos_y),ball_size)\n",
    "        #apple_rect = apple_surface.get_rect(center = (pos_x,pos_y))\n",
    "        #screen.blit(apple_surface,apple_rect)\n",
    "        \n",
    "# create another shape:\n",
    "def static_ball(space):\n",
    "    body = pymunk.Body(1,body_type=pymunk.Body.STATIC)\n",
    "    body.position=(290,500)\n",
    "    shape=pymunk.Circle(body,sphere_size)\n",
    "    shape.elasticity=sphere_elast/10\n",
    "    space.add(body,shape)\n",
    "    return shape\n",
    "\n",
    "def draw_static_ball(balls):\n",
    "    for ball in balls:\n",
    "        pos_x = int(ball.body.position.x)\n",
    "        pos_y = int(ball.body.position.y)\n",
    "        pygame.draw.circle(screen,(0,0,0),(pos_x,pos_y),sphere_size)\n",
    "    \n",
    "\n",
    "    pygame.init() #initiating pygame\n",
    "screen = pygame.display.set_mode((600,600)) # creates display surface\n",
    "clock = pygame.time.Clock() #creates game clock\n",
    "space = pymunk.Space() #create the space\n",
    "space.gravity=(0,100) # give the space gravity for coordinates in (x,y)\n",
    "\n",
    "#apple_surface = pygame.image.load('apple_red.png')\n",
    "apples = []\n",
    "\n",
    "\n",
    "balls=[]\n",
    "balls.append(static_ball(space))\n",
    "\n",
    "while True:   #Game Loop\n",
    "    for event in pygame.event.get():  # checks user input\n",
    "        if event.type == pygame.QUIT: # input to close the game\n",
    "            pygame.quit()\n",
    "            sys.exit()\n",
    "        if event.type == pygame.MOUSEBUTTONDOWN:\n",
    "            apples.append(create_apple(space,event.pos))\n",
    "            \n",
    "    \n",
    "    \n",
    "    screen.fill((217,217,217)) #background colour\n",
    "    draw_apples(apples)\n",
    "    draw_static_ball(balls)\n",
    "  \n",
    "    \n",
    "    space.step(1/150)           #size of update steps\n",
    "    pygame.display.update()"
   ]
  },
  {
   "cell_type": "code",
   "execution_count": null,
   "metadata": {},
   "outputs": [],
   "source": []
  }
 ],
 "metadata": {
  "kernelspec": {
   "display_name": "Python 3",
   "language": "python",
   "name": "python3"
  },
  "language_info": {
   "codemirror_mode": {
    "name": "ipython",
    "version": 3
   },
   "file_extension": ".py",
   "mimetype": "text/x-python",
   "name": "python",
   "nbconvert_exporter": "python",
   "pygments_lexer": "ipython3",
   "version": "3.7.1"
  }
 },
 "nbformat": 4,
 "nbformat_minor": 2
}
